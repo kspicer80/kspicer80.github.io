{
 "cells": [
  {
   "cell_type": "code",
   "execution_count": null,
   "id": "import-libraries",
   "metadata": {},
   "outputs": [],
   "source": [
    "# Step 1: Import necessary libraries\n",
    "import pandas as pd\n",
    "import matplotlib.pyplot as plt\n",
    "import yfinance as yf\n",
    "from datetime import datetime\n"
   ]
  },
  {
   "cell_type": "code",
   "execution_count": null,
   "id": "fetch-data",
   "metadata": {},
   "outputs": [],
   "source": [
    "# Step 2: Fetch historical data for Silver (symbol: 'SI=F')\n",
    "end_date = datetime.today().strftime('%Y-%m-%d')\n",
    "silver_data = yf.download('SI=F', start='2018-01-01', end=end_date)\n"
   ]
  },
  {
   "cell_type": "code",
   "execution_count": null,
   "id": "process-data",
   "metadata": {},
   "outputs": [],
   "source": [
    "# Step 3: Process the data\n",
    "# Display the first few rows of the data\n",
    "print(silver_data.head())\n"
   ]
  },
  {
   "cell_type": "code",
   "execution_count": null,
   "id": "visualize-data",
   "metadata": {},
   "outputs": [],
   "source": [
    "# Step 4: Visualize the data\n",
    "plt.figure(figsize=(14, 7))\n",
    "plt.plot(silver_data['Close'], label='Silver Price')\n",
    "plt.title('Silver Price Over the Last Five Years')\n",
    "plt.xlabel('Date')\n",
    "plt.ylabel('Price (USD)')\n",
    "plt.legend()\n",
    "plt.grid(True)\n",
    "plt.savefig('static/images/imgforblogposts/post_35/silver_price_plot.png')\n",
    "plt.show()\n"
   ]
  }
 ],
 "metadata": {
  "kernelspec": {
   "display_name": "Python 3",
   "language": "python",
   "name": "python3"
  },
  "language_info": {
   "codemirror_mode": {
    "name": "ipython",
    "version": 3
   },
   "file_extension": ".py",
   "mimetype": "text/x-python",
   "name": "python",
   "nbconvert_exporter": "python",
   "pygments_lexer": "ipython3",
   "version": "3.8.5"
  }
 },
 "nbformat": 4,
 "nbformat_minor": 5
}
