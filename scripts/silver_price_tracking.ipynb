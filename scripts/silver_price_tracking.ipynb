{
 "cells": [
  {
   "cell_type": "code",
   "execution_count": null,
   "metadata": {},
   "outputs": [],
   "source": [
    "# Step 1: Import necessary libraries\n",
    "import pandas as pd\n",
    "import matplotlib.pyplot as plt\n",
    "import yfinance as yf\n",
    "\n",
    "# Step 2: Fetch historical data for Silver (symbol: 'SI=F')\n",
    "silver_data = yf.download('SI=F', start='2018-01-01', end='2024-08-25')\n",
    "\n",
    "# Step 3: Process the data\n",
    "# Display the first few rows of the data\n",
    "print(silver_data.head())\n",
    "\n",
    "# Step 4: Visualize the data\n",
    "plt.figure(figsize=(14, 7))\n",
    "plt.plot(silver_data['Close'], label='Silver Price')\n",
    "plt.title('Silver Price Over the Last Five Years')\n",
    "plt.xlabel('Date')\n",
    "plt.ylabel('Price (USD)')\n",
    "plt.legend()\n",
    "plt.grid(True)\n",
    "\n",
    "# Save the plot to the specified directory\n",
    "plt.savefig('../static/images/imgforblogposts/post35/silver_price_plot.png')\n",
    "\n",
    "# Show the plot\n",
    "plt.show()"
   ]
  }
 ],
 "metadata": {
  "language_info": {
   "name": "python"
  }
 },
 "nbformat": 4,
 "nbformat_minor": 2
}
